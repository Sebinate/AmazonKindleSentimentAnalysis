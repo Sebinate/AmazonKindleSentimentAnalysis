{
 "cells": [
  {
   "cell_type": "markdown",
   "id": "8c5c71fd",
   "metadata": {},
   "source": [
    "### Importing Necessary Modules"
   ]
  },
  {
   "cell_type": "code",
   "execution_count": 2,
   "id": "69011667",
   "metadata": {},
   "outputs": [
    {
     "name": "stderr",
     "output_type": "stream",
     "text": [
      "[nltk_data] Downloading package stopwords to\n",
      "[nltk_data]     C:\\Users\\User\\AppData\\Roaming\\nltk_data...\n",
      "[nltk_data]   Package stopwords is already up-to-date!\n",
      "[nltk_data] Downloading package wordnet to\n",
      "[nltk_data]     C:\\Users\\User\\AppData\\Roaming\\nltk_data...\n",
      "[nltk_data]   Package wordnet is already up-to-date!\n"
     ]
    },
    {
     "data": {
      "text/plain": [
       "True"
      ]
     },
     "execution_count": 2,
     "metadata": {},
     "output_type": "execute_result"
    }
   ],
   "source": [
    "import pandas as pd\n",
    "import numpy as np\n",
    "import nltk\n",
    "from nltk.corpus import stopwords\n",
    "from nltk.stem import WordNetLemmatizer\n",
    "import spacy\n",
    "\n",
    "nltk.download(\"stopwords\")\n",
    "nltk.download(\"wordnet\")"
   ]
  },
  {
   "cell_type": "markdown",
   "id": "fd2e7ad1",
   "metadata": {},
   "source": [
    "### Loading the Dataset"
   ]
  },
  {
   "cell_type": "code",
   "execution_count": 4,
   "id": "7d0e3b4b",
   "metadata": {},
   "outputs": [],
   "source": [
    "df = pd.read_csv(\"../data/kindle_reviews.csv\")"
   ]
  },
  {
   "cell_type": "code",
   "execution_count": 3,
   "id": "8df795be",
   "metadata": {},
   "outputs": [
    {
     "data": {
      "text/html": [
       "<div>\n",
       "<style scoped>\n",
       "    .dataframe tbody tr th:only-of-type {\n",
       "        vertical-align: middle;\n",
       "    }\n",
       "\n",
       "    .dataframe tbody tr th {\n",
       "        vertical-align: top;\n",
       "    }\n",
       "\n",
       "    .dataframe thead th {\n",
       "        text-align: right;\n",
       "    }\n",
       "</style>\n",
       "<table border=\"1\" class=\"dataframe\">\n",
       "  <thead>\n",
       "    <tr style=\"text-align: right;\">\n",
       "      <th></th>\n",
       "      <th>Unnamed: 0</th>\n",
       "      <th>asin</th>\n",
       "      <th>helpful</th>\n",
       "      <th>overall</th>\n",
       "      <th>reviewText</th>\n",
       "      <th>reviewTime</th>\n",
       "      <th>reviewerID</th>\n",
       "      <th>reviewerName</th>\n",
       "      <th>summary</th>\n",
       "      <th>unixReviewTime</th>\n",
       "    </tr>\n",
       "  </thead>\n",
       "  <tbody>\n",
       "    <tr>\n",
       "      <th>0</th>\n",
       "      <td>0</td>\n",
       "      <td>B000F83SZQ</td>\n",
       "      <td>[0, 0]</td>\n",
       "      <td>5</td>\n",
       "      <td>I enjoy vintage books and movies so I enjoyed ...</td>\n",
       "      <td>05 5, 2014</td>\n",
       "      <td>A1F6404F1VG29J</td>\n",
       "      <td>Avidreader</td>\n",
       "      <td>Nice vintage story</td>\n",
       "      <td>1399248000</td>\n",
       "    </tr>\n",
       "    <tr>\n",
       "      <th>1</th>\n",
       "      <td>1</td>\n",
       "      <td>B000F83SZQ</td>\n",
       "      <td>[2, 2]</td>\n",
       "      <td>4</td>\n",
       "      <td>This book is a reissue of an old one; the auth...</td>\n",
       "      <td>01 6, 2014</td>\n",
       "      <td>AN0N05A9LIJEQ</td>\n",
       "      <td>critters</td>\n",
       "      <td>Different...</td>\n",
       "      <td>1388966400</td>\n",
       "    </tr>\n",
       "    <tr>\n",
       "      <th>2</th>\n",
       "      <td>2</td>\n",
       "      <td>B000F83SZQ</td>\n",
       "      <td>[2, 2]</td>\n",
       "      <td>4</td>\n",
       "      <td>This was a fairly interesting read.  It had ol...</td>\n",
       "      <td>04 4, 2014</td>\n",
       "      <td>A795DMNCJILA6</td>\n",
       "      <td>dot</td>\n",
       "      <td>Oldie</td>\n",
       "      <td>1396569600</td>\n",
       "    </tr>\n",
       "    <tr>\n",
       "      <th>3</th>\n",
       "      <td>3</td>\n",
       "      <td>B000F83SZQ</td>\n",
       "      <td>[1, 1]</td>\n",
       "      <td>5</td>\n",
       "      <td>I'd never read any of the Amy Brewster mysteri...</td>\n",
       "      <td>02 19, 2014</td>\n",
       "      <td>A1FV0SX13TWVXQ</td>\n",
       "      <td>Elaine H. Turley \"Montana Songbird\"</td>\n",
       "      <td>I really liked it.</td>\n",
       "      <td>1392768000</td>\n",
       "    </tr>\n",
       "    <tr>\n",
       "      <th>4</th>\n",
       "      <td>4</td>\n",
       "      <td>B000F83SZQ</td>\n",
       "      <td>[0, 1]</td>\n",
       "      <td>4</td>\n",
       "      <td>If you like period pieces - clothing, lingo, y...</td>\n",
       "      <td>03 19, 2014</td>\n",
       "      <td>A3SPTOKDG7WBLN</td>\n",
       "      <td>Father Dowling Fan</td>\n",
       "      <td>Period Mystery</td>\n",
       "      <td>1395187200</td>\n",
       "    </tr>\n",
       "    <tr>\n",
       "      <th>...</th>\n",
       "      <td>...</td>\n",
       "      <td>...</td>\n",
       "      <td>...</td>\n",
       "      <td>...</td>\n",
       "      <td>...</td>\n",
       "      <td>...</td>\n",
       "      <td>...</td>\n",
       "      <td>...</td>\n",
       "      <td>...</td>\n",
       "      <td>...</td>\n",
       "    </tr>\n",
       "    <tr>\n",
       "      <th>982614</th>\n",
       "      <td>982614</td>\n",
       "      <td>B00M13FNSS</td>\n",
       "      <td>[2, 2]</td>\n",
       "      <td>5</td>\n",
       "      <td>Yasss hunny! This is a great read. That Dre is...</td>\n",
       "      <td>07 23, 2014</td>\n",
       "      <td>A2Y66HD4J5S7QZ</td>\n",
       "      <td>Candi</td>\n",
       "      <td>A Hot Read Indeed!!</td>\n",
       "      <td>1406073600</td>\n",
       "    </tr>\n",
       "    <tr>\n",
       "      <th>982615</th>\n",
       "      <td>982615</td>\n",
       "      <td>B00M13FNSS</td>\n",
       "      <td>[0, 0]</td>\n",
       "      <td>5</td>\n",
       "      <td>I ENJOYED THIS BOOK FROM BEGINNING TO END NOW ...</td>\n",
       "      <td>07 23, 2014</td>\n",
       "      <td>A17YHECC8H9NEY</td>\n",
       "      <td>Margie</td>\n",
       "      <td>VERY GOOD BOOK</td>\n",
       "      <td>1406073600</td>\n",
       "    </tr>\n",
       "    <tr>\n",
       "      <th>982616</th>\n",
       "      <td>982616</td>\n",
       "      <td>B00M13FNSS</td>\n",
       "      <td>[1, 1]</td>\n",
       "      <td>5</td>\n",
       "      <td>Great book! Cherika was a fool. She let that m...</td>\n",
       "      <td>07 23, 2014</td>\n",
       "      <td>A20KO0BPMNREJL</td>\n",
       "      <td>Nicki</td>\n",
       "      <td>Great Read</td>\n",
       "      <td>1406073600</td>\n",
       "    </tr>\n",
       "    <tr>\n",
       "      <th>982617</th>\n",
       "      <td>982617</td>\n",
       "      <td>B00M13FNSS</td>\n",
       "      <td>[0, 0]</td>\n",
       "      <td>5</td>\n",
       "      <td>When I say this was an excellent book please b...</td>\n",
       "      <td>07 23, 2014</td>\n",
       "      <td>A1BQO66R6OLCCW</td>\n",
       "      <td>Nikey</td>\n",
       "      <td>Wow!!</td>\n",
       "      <td>1406073600</td>\n",
       "    </tr>\n",
       "    <tr>\n",
       "      <th>982618</th>\n",
       "      <td>982618</td>\n",
       "      <td>B00M13FNSS</td>\n",
       "      <td>[2, 2]</td>\n",
       "      <td>5</td>\n",
       "      <td>This book was everything. I just hope Alexus w...</td>\n",
       "      <td>07 23, 2014</td>\n",
       "      <td>A2NRGE3CSFY2TQ</td>\n",
       "      <td>Yo</td>\n",
       "      <td>Great read.hands down #5star hit</td>\n",
       "      <td>1406073600</td>\n",
       "    </tr>\n",
       "  </tbody>\n",
       "</table>\n",
       "<p>982619 rows × 10 columns</p>\n",
       "</div>"
      ],
      "text/plain": [
       "        Unnamed: 0  ... unixReviewTime\n",
       "0                0  ...     1399248000\n",
       "1                1  ...     1388966400\n",
       "2                2  ...     1396569600\n",
       "3                3  ...     1392768000\n",
       "4                4  ...     1395187200\n",
       "...            ...  ...            ...\n",
       "982614      982614  ...     1406073600\n",
       "982615      982615  ...     1406073600\n",
       "982616      982616  ...     1406073600\n",
       "982617      982617  ...     1406073600\n",
       "982618      982618  ...     1406073600\n",
       "\n",
       "[982619 rows x 10 columns]"
      ]
     },
     "execution_count": 3,
     "metadata": {},
     "output_type": "execute_result"
    }
   ],
   "source": [
    "df"
   ]
  },
  {
   "cell_type": "markdown",
   "id": "65496493",
   "metadata": {},
   "source": [
    "***Note***\n",
    "- For this case, only review rating and review text will be used"
   ]
  },
  {
   "cell_type": "code",
   "execution_count": 5,
   "id": "155f878d",
   "metadata": {},
   "outputs": [],
   "source": [
    "data = df[[\"overall\", \"reviewText\"]]"
   ]
  },
  {
   "cell_type": "code",
   "execution_count": 8,
   "id": "30c21310",
   "metadata": {},
   "outputs": [
    {
     "data": {
      "text/html": [
       "<div>\n",
       "<style scoped>\n",
       "    .dataframe tbody tr th:only-of-type {\n",
       "        vertical-align: middle;\n",
       "    }\n",
       "\n",
       "    .dataframe tbody tr th {\n",
       "        vertical-align: top;\n",
       "    }\n",
       "\n",
       "    .dataframe thead th {\n",
       "        text-align: right;\n",
       "    }\n",
       "</style>\n",
       "<table border=\"1\" class=\"dataframe\">\n",
       "  <thead>\n",
       "    <tr style=\"text-align: right;\">\n",
       "      <th></th>\n",
       "      <th>overall</th>\n",
       "      <th>reviewText</th>\n",
       "    </tr>\n",
       "  </thead>\n",
       "  <tbody>\n",
       "    <tr>\n",
       "      <th>0</th>\n",
       "      <td>5</td>\n",
       "      <td>I enjoy vintage books and movies so I enjoyed ...</td>\n",
       "    </tr>\n",
       "    <tr>\n",
       "      <th>1</th>\n",
       "      <td>4</td>\n",
       "      <td>This book is a reissue of an old one; the auth...</td>\n",
       "    </tr>\n",
       "    <tr>\n",
       "      <th>2</th>\n",
       "      <td>4</td>\n",
       "      <td>This was a fairly interesting read.  It had ol...</td>\n",
       "    </tr>\n",
       "    <tr>\n",
       "      <th>3</th>\n",
       "      <td>5</td>\n",
       "      <td>I'd never read any of the Amy Brewster mysteri...</td>\n",
       "    </tr>\n",
       "    <tr>\n",
       "      <th>4</th>\n",
       "      <td>4</td>\n",
       "      <td>If you like period pieces - clothing, lingo, y...</td>\n",
       "    </tr>\n",
       "    <tr>\n",
       "      <th>...</th>\n",
       "      <td>...</td>\n",
       "      <td>...</td>\n",
       "    </tr>\n",
       "    <tr>\n",
       "      <th>982614</th>\n",
       "      <td>5</td>\n",
       "      <td>Yasss hunny! This is a great read. That Dre is...</td>\n",
       "    </tr>\n",
       "    <tr>\n",
       "      <th>982615</th>\n",
       "      <td>5</td>\n",
       "      <td>I ENJOYED THIS BOOK FROM BEGINNING TO END NOW ...</td>\n",
       "    </tr>\n",
       "    <tr>\n",
       "      <th>982616</th>\n",
       "      <td>5</td>\n",
       "      <td>Great book! Cherika was a fool. She let that m...</td>\n",
       "    </tr>\n",
       "    <tr>\n",
       "      <th>982617</th>\n",
       "      <td>5</td>\n",
       "      <td>When I say this was an excellent book please b...</td>\n",
       "    </tr>\n",
       "    <tr>\n",
       "      <th>982618</th>\n",
       "      <td>5</td>\n",
       "      <td>This book was everything. I just hope Alexus w...</td>\n",
       "    </tr>\n",
       "  </tbody>\n",
       "</table>\n",
       "<p>982619 rows × 2 columns</p>\n",
       "</div>"
      ],
      "text/plain": [
       "        overall                                         reviewText\n",
       "0             5  I enjoy vintage books and movies so I enjoyed ...\n",
       "1             4  This book is a reissue of an old one; the auth...\n",
       "2             4  This was a fairly interesting read.  It had ol...\n",
       "3             5  I'd never read any of the Amy Brewster mysteri...\n",
       "4             4  If you like period pieces - clothing, lingo, y...\n",
       "...         ...                                                ...\n",
       "982614        5  Yasss hunny! This is a great read. That Dre is...\n",
       "982615        5  I ENJOYED THIS BOOK FROM BEGINNING TO END NOW ...\n",
       "982616        5  Great book! Cherika was a fool. She let that m...\n",
       "982617        5  When I say this was an excellent book please b...\n",
       "982618        5  This book was everything. I just hope Alexus w...\n",
       "\n",
       "[982619 rows x 2 columns]"
      ]
     },
     "execution_count": 8,
     "metadata": {},
     "output_type": "execute_result"
    }
   ],
   "source": [
    "data"
   ]
  },
  {
   "cell_type": "code",
   "execution_count": 9,
   "id": "e1cf9ab8",
   "metadata": {},
   "outputs": [
    {
     "data": {
      "text/plain": [
       "(982619, 2)"
      ]
     },
     "execution_count": 9,
     "metadata": {},
     "output_type": "execute_result"
    }
   ],
   "source": [
    "data.shape"
   ]
  },
  {
   "cell_type": "markdown",
   "id": "da815355",
   "metadata": {},
   "source": [
    "### Text Preprocessing and Data Cleaning"
   ]
  },
  {
   "cell_type": "code",
   "execution_count": 13,
   "id": "fea9a974",
   "metadata": {},
   "outputs": [
    {
     "data": {
      "text/plain": [
       "overall        0\n",
       "reviewText    22\n",
       "dtype: int64"
      ]
     },
     "execution_count": 13,
     "metadata": {},
     "output_type": "execute_result"
    }
   ],
   "source": [
    "# Checking for nan values\n",
    "data.isnull().sum()"
   ]
  },
  {
   "cell_type": "code",
   "execution_count": 6,
   "id": "893ec4b3",
   "metadata": {},
   "outputs": [],
   "source": [
    "# Since there are nan values in the reviewText, we will drop them\n",
    "data = data.dropna()"
   ]
  },
  {
   "cell_type": "code",
   "execution_count": 16,
   "id": "2debc0a7",
   "metadata": {},
   "outputs": [
    {
     "data": {
      "text/plain": [
       "overall       0\n",
       "reviewText    0\n",
       "dtype: int64"
      ]
     },
     "execution_count": 16,
     "metadata": {},
     "output_type": "execute_result"
    }
   ],
   "source": [
    "data.isnull().sum()"
   ]
  },
  {
   "cell_type": "code",
   "execution_count": 17,
   "id": "eba82fd5",
   "metadata": {},
   "outputs": [
    {
     "data": {
      "text/plain": [
       "np.int64(278)"
      ]
     },
     "execution_count": 17,
     "metadata": {},
     "output_type": "execute_result"
    }
   ],
   "source": [
    "# Checking for duplicates\n",
    "data.duplicated().sum()"
   ]
  },
  {
   "cell_type": "code",
   "execution_count": 7,
   "id": "36331602",
   "metadata": {},
   "outputs": [],
   "source": [
    "# Removing duplicates\n",
    "data = data.drop_duplicates()"
   ]
  },
  {
   "cell_type": "code",
   "execution_count": 19,
   "id": "eadb4672",
   "metadata": {},
   "outputs": [
    {
     "data": {
      "text/plain": [
       "np.int64(0)"
      ]
     },
     "execution_count": 19,
     "metadata": {},
     "output_type": "execute_result"
    }
   ],
   "source": [
    "data.duplicated().sum()"
   ]
  },
  {
   "cell_type": "code",
   "execution_count": 8,
   "id": "a83ef795",
   "metadata": {},
   "outputs": [
    {
     "data": {
      "text/plain": [
       "overall\n",
       "5    575031\n",
       "4    253959\n",
       "3     96181\n",
       "2     34130\n",
       "1     23018\n",
       "Name: count, dtype: int64"
      ]
     },
     "execution_count": 8,
     "metadata": {},
     "output_type": "execute_result"
    }
   ],
   "source": [
    "# Checking for class imbalances\n",
    "data['overall'].value_counts()"
   ]
  },
  {
   "cell_type": "code",
   "execution_count": 9,
   "id": "9fb79327",
   "metadata": {},
   "outputs": [],
   "source": [
    "# For review sentiment, 3 and greater is positive (1), 3 less is negative (0)\n",
    "\n",
    "data['overall'] = data['overall'].map(lambda x: 0 if x < 3 else 1)"
   ]
  },
  {
   "cell_type": "code",
   "execution_count": null,
   "id": "3a374500",
   "metadata": {},
   "outputs": [
    {
     "data": {
      "text/plain": [
       "overall\n",
       "1    925171\n",
       "0     57148\n",
       "Name: count, dtype: int64"
      ]
     },
     "execution_count": 32,
     "metadata": {},
     "output_type": "execute_result"
    }
   ],
   "source": [
    "data['overall'].value_counts()\n",
    "\n",
    "# Class imbalance needs to be addressed later on"
   ]
  },
  {
   "cell_type": "code",
   "execution_count": 10,
   "id": "84df2afa",
   "metadata": {},
   "outputs": [],
   "source": [
    "# Removing all special characters and lowering the string\n",
    "\n",
    "data['reviewText'] = data['reviewText'].replace(regex = r\"[^a-zA-Z0-9\\s+]\", value = '').str.lower()"
   ]
  },
  {
   "cell_type": "code",
   "execution_count": 11,
   "id": "e1ca60b9",
   "metadata": {},
   "outputs": [],
   "source": [
    "nlp = spacy.load(\"en_core_web_sm\", disable=[\"ner\", \"parser\"])\n",
    "\n",
    "def lemmatize(sentence: str) -> str:\n",
    "    doc = nlp(sentence)\n",
    "    result = [token.lemma_ for token in doc if token.text.lower() not in stopwords.words(\"english\")]\n",
    "    return \" \".join(result)"
   ]
  },
  {
   "cell_type": "code",
   "execution_count": null,
   "id": "2822d2ba",
   "metadata": {},
   "outputs": [],
   "source": [
    "data['lemmatizedText'] = data['reviewText'].apply(lambda x: lemmatize(x))"
   ]
  },
  {
   "cell_type": "code",
   "execution_count": null,
   "id": "4e3e1a00",
   "metadata": {},
   "outputs": [],
   "source": []
  }
 ],
 "metadata": {
  "kernelspec": {
   "display_name": "Python 3",
   "language": "python",
   "name": "python3"
  },
  "language_info": {
   "codemirror_mode": {
    "name": "ipython",
    "version": 3
   },
   "file_extension": ".py",
   "mimetype": "text/x-python",
   "name": "python",
   "nbconvert_exporter": "python",
   "pygments_lexer": "ipython3",
   "version": "3.12.5"
  }
 },
 "nbformat": 4,
 "nbformat_minor": 5
}
