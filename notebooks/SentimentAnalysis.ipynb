{
 "cells": [
  {
   "cell_type": "markdown",
   "id": "8c5c71fd",
   "metadata": {},
   "source": [
    "### Importing Necessary Modules"
   ]
  },
  {
   "cell_type": "code",
   "execution_count": 36,
   "id": "69011667",
   "metadata": {},
   "outputs": [
    {
     "name": "stderr",
     "output_type": "stream",
     "text": [
      "[nltk_data] Downloading package stopwords to\n",
      "[nltk_data]     C:\\Users\\User\\AppData\\Roaming\\nltk_data...\n",
      "[nltk_data]   Package stopwords is already up-to-date!\n",
      "[nltk_data] Downloading package wordnet to\n",
      "[nltk_data]     C:\\Users\\User\\AppData\\Roaming\\nltk_data...\n",
      "[nltk_data]   Package wordnet is already up-to-date!\n"
     ]
    },
    {
     "data": {
      "text/plain": [
       "True"
      ]
     },
     "execution_count": 36,
     "metadata": {},
     "output_type": "execute_result"
    }
   ],
   "source": [
    "import pandas as pd\n",
    "import numpy as np\n",
    "import re\n",
    "import pickle\n",
    "\n",
    "import nltk\n",
    "from nltk.corpus import stopwords\n",
    "from nltk.stem import WordNetLemmatizer\n",
    "from nltk.tokenize import word_tokenize\n",
    "import spacy\n",
    "\n",
    "from sklearn.model_selection import train_test_split\n",
    "\n",
    "from gensim.models import Word2Vec\n",
    "\n",
    "from sklearn.ensemble import RandomForestClassifier\n",
    "from sklearn.neighbors import KNeighborsClassifier\n",
    "from sklearn.linear_model import LogisticRegression\n",
    "from sklearn.svm import SVC\n",
    "from sklearn.metrics import accuracy_score, f1_score, recall_score\n",
    "\n",
    "import matplotlib.pyplot as plt\n",
    "\n",
    "nltk.download(\"stopwords\")\n",
    "nltk.download(\"wordnet\")"
   ]
  },
  {
   "cell_type": "markdown",
   "id": "fd2e7ad1",
   "metadata": {},
   "source": [
    "### Loading the Dataset"
   ]
  },
  {
   "cell_type": "code",
   "execution_count": 3,
   "id": "7d0e3b4b",
   "metadata": {},
   "outputs": [],
   "source": [
    "df = pd.read_csv(\"../data/kindle_reviews.csv\")"
   ]
  },
  {
   "cell_type": "code",
   "execution_count": 3,
   "id": "8df795be",
   "metadata": {},
   "outputs": [
    {
     "data": {
      "text/html": [
       "<div>\n",
       "<style scoped>\n",
       "    .dataframe tbody tr th:only-of-type {\n",
       "        vertical-align: middle;\n",
       "    }\n",
       "\n",
       "    .dataframe tbody tr th {\n",
       "        vertical-align: top;\n",
       "    }\n",
       "\n",
       "    .dataframe thead th {\n",
       "        text-align: right;\n",
       "    }\n",
       "</style>\n",
       "<table border=\"1\" class=\"dataframe\">\n",
       "  <thead>\n",
       "    <tr style=\"text-align: right;\">\n",
       "      <th></th>\n",
       "      <th>Unnamed: 0</th>\n",
       "      <th>asin</th>\n",
       "      <th>helpful</th>\n",
       "      <th>overall</th>\n",
       "      <th>reviewText</th>\n",
       "      <th>reviewTime</th>\n",
       "      <th>reviewerID</th>\n",
       "      <th>reviewerName</th>\n",
       "      <th>summary</th>\n",
       "      <th>unixReviewTime</th>\n",
       "    </tr>\n",
       "  </thead>\n",
       "  <tbody>\n",
       "    <tr>\n",
       "      <th>0</th>\n",
       "      <td>0</td>\n",
       "      <td>B000F83SZQ</td>\n",
       "      <td>[0, 0]</td>\n",
       "      <td>5</td>\n",
       "      <td>I enjoy vintage books and movies so I enjoyed ...</td>\n",
       "      <td>05 5, 2014</td>\n",
       "      <td>A1F6404F1VG29J</td>\n",
       "      <td>Avidreader</td>\n",
       "      <td>Nice vintage story</td>\n",
       "      <td>1399248000</td>\n",
       "    </tr>\n",
       "    <tr>\n",
       "      <th>1</th>\n",
       "      <td>1</td>\n",
       "      <td>B000F83SZQ</td>\n",
       "      <td>[2, 2]</td>\n",
       "      <td>4</td>\n",
       "      <td>This book is a reissue of an old one; the auth...</td>\n",
       "      <td>01 6, 2014</td>\n",
       "      <td>AN0N05A9LIJEQ</td>\n",
       "      <td>critters</td>\n",
       "      <td>Different...</td>\n",
       "      <td>1388966400</td>\n",
       "    </tr>\n",
       "    <tr>\n",
       "      <th>2</th>\n",
       "      <td>2</td>\n",
       "      <td>B000F83SZQ</td>\n",
       "      <td>[2, 2]</td>\n",
       "      <td>4</td>\n",
       "      <td>This was a fairly interesting read.  It had ol...</td>\n",
       "      <td>04 4, 2014</td>\n",
       "      <td>A795DMNCJILA6</td>\n",
       "      <td>dot</td>\n",
       "      <td>Oldie</td>\n",
       "      <td>1396569600</td>\n",
       "    </tr>\n",
       "    <tr>\n",
       "      <th>3</th>\n",
       "      <td>3</td>\n",
       "      <td>B000F83SZQ</td>\n",
       "      <td>[1, 1]</td>\n",
       "      <td>5</td>\n",
       "      <td>I'd never read any of the Amy Brewster mysteri...</td>\n",
       "      <td>02 19, 2014</td>\n",
       "      <td>A1FV0SX13TWVXQ</td>\n",
       "      <td>Elaine H. Turley \"Montana Songbird\"</td>\n",
       "      <td>I really liked it.</td>\n",
       "      <td>1392768000</td>\n",
       "    </tr>\n",
       "    <tr>\n",
       "      <th>4</th>\n",
       "      <td>4</td>\n",
       "      <td>B000F83SZQ</td>\n",
       "      <td>[0, 1]</td>\n",
       "      <td>4</td>\n",
       "      <td>If you like period pieces - clothing, lingo, y...</td>\n",
       "      <td>03 19, 2014</td>\n",
       "      <td>A3SPTOKDG7WBLN</td>\n",
       "      <td>Father Dowling Fan</td>\n",
       "      <td>Period Mystery</td>\n",
       "      <td>1395187200</td>\n",
       "    </tr>\n",
       "    <tr>\n",
       "      <th>...</th>\n",
       "      <td>...</td>\n",
       "      <td>...</td>\n",
       "      <td>...</td>\n",
       "      <td>...</td>\n",
       "      <td>...</td>\n",
       "      <td>...</td>\n",
       "      <td>...</td>\n",
       "      <td>...</td>\n",
       "      <td>...</td>\n",
       "      <td>...</td>\n",
       "    </tr>\n",
       "    <tr>\n",
       "      <th>982614</th>\n",
       "      <td>982614</td>\n",
       "      <td>B00M13FNSS</td>\n",
       "      <td>[2, 2]</td>\n",
       "      <td>5</td>\n",
       "      <td>Yasss hunny! This is a great read. That Dre is...</td>\n",
       "      <td>07 23, 2014</td>\n",
       "      <td>A2Y66HD4J5S7QZ</td>\n",
       "      <td>Candi</td>\n",
       "      <td>A Hot Read Indeed!!</td>\n",
       "      <td>1406073600</td>\n",
       "    </tr>\n",
       "    <tr>\n",
       "      <th>982615</th>\n",
       "      <td>982615</td>\n",
       "      <td>B00M13FNSS</td>\n",
       "      <td>[0, 0]</td>\n",
       "      <td>5</td>\n",
       "      <td>I ENJOYED THIS BOOK FROM BEGINNING TO END NOW ...</td>\n",
       "      <td>07 23, 2014</td>\n",
       "      <td>A17YHECC8H9NEY</td>\n",
       "      <td>Margie</td>\n",
       "      <td>VERY GOOD BOOK</td>\n",
       "      <td>1406073600</td>\n",
       "    </tr>\n",
       "    <tr>\n",
       "      <th>982616</th>\n",
       "      <td>982616</td>\n",
       "      <td>B00M13FNSS</td>\n",
       "      <td>[1, 1]</td>\n",
       "      <td>5</td>\n",
       "      <td>Great book! Cherika was a fool. She let that m...</td>\n",
       "      <td>07 23, 2014</td>\n",
       "      <td>A20KO0BPMNREJL</td>\n",
       "      <td>Nicki</td>\n",
       "      <td>Great Read</td>\n",
       "      <td>1406073600</td>\n",
       "    </tr>\n",
       "    <tr>\n",
       "      <th>982617</th>\n",
       "      <td>982617</td>\n",
       "      <td>B00M13FNSS</td>\n",
       "      <td>[0, 0]</td>\n",
       "      <td>5</td>\n",
       "      <td>When I say this was an excellent book please b...</td>\n",
       "      <td>07 23, 2014</td>\n",
       "      <td>A1BQO66R6OLCCW</td>\n",
       "      <td>Nikey</td>\n",
       "      <td>Wow!!</td>\n",
       "      <td>1406073600</td>\n",
       "    </tr>\n",
       "    <tr>\n",
       "      <th>982618</th>\n",
       "      <td>982618</td>\n",
       "      <td>B00M13FNSS</td>\n",
       "      <td>[2, 2]</td>\n",
       "      <td>5</td>\n",
       "      <td>This book was everything. I just hope Alexus w...</td>\n",
       "      <td>07 23, 2014</td>\n",
       "      <td>A2NRGE3CSFY2TQ</td>\n",
       "      <td>Yo</td>\n",
       "      <td>Great read.hands down #5star hit</td>\n",
       "      <td>1406073600</td>\n",
       "    </tr>\n",
       "  </tbody>\n",
       "</table>\n",
       "<p>982619 rows × 10 columns</p>\n",
       "</div>"
      ],
      "text/plain": [
       "        Unnamed: 0  ... unixReviewTime\n",
       "0                0  ...     1399248000\n",
       "1                1  ...     1388966400\n",
       "2                2  ...     1396569600\n",
       "3                3  ...     1392768000\n",
       "4                4  ...     1395187200\n",
       "...            ...  ...            ...\n",
       "982614      982614  ...     1406073600\n",
       "982615      982615  ...     1406073600\n",
       "982616      982616  ...     1406073600\n",
       "982617      982617  ...     1406073600\n",
       "982618      982618  ...     1406073600\n",
       "\n",
       "[982619 rows x 10 columns]"
      ]
     },
     "execution_count": 3,
     "metadata": {},
     "output_type": "execute_result"
    }
   ],
   "source": [
    "df"
   ]
  },
  {
   "cell_type": "markdown",
   "id": "65496493",
   "metadata": {},
   "source": [
    "***Note***\n",
    "- For this case, only review rating and review text will be used"
   ]
  },
  {
   "cell_type": "code",
   "execution_count": 5,
   "id": "155f878d",
   "metadata": {},
   "outputs": [],
   "source": [
    "to_use = df[[\"overall\", \"reviewText\"]]"
   ]
  },
  {
   "cell_type": "code",
   "execution_count": 6,
   "id": "2c443207",
   "metadata": {},
   "outputs": [],
   "source": [
    "# Getting only 10% due to hardware constraints\n",
    "large, small = train_test_split(to_use, test_size = 0.10, random_state = 42)"
   ]
  },
  {
   "cell_type": "code",
   "execution_count": 7,
   "id": "30c21310",
   "metadata": {},
   "outputs": [],
   "source": [
    "data = small"
   ]
  },
  {
   "cell_type": "code",
   "execution_count": 13,
   "id": "e1cf9ab8",
   "metadata": {},
   "outputs": [
    {
     "data": {
      "text/plain": [
       "(98262, 2)"
      ]
     },
     "execution_count": 13,
     "metadata": {},
     "output_type": "execute_result"
    }
   ],
   "source": [
    "data.shape"
   ]
  },
  {
   "cell_type": "markdown",
   "id": "da815355",
   "metadata": {},
   "source": [
    "### Text Preprocessing and Data Cleaning"
   ]
  },
  {
   "cell_type": "code",
   "execution_count": 14,
   "id": "fea9a974",
   "metadata": {},
   "outputs": [
    {
     "data": {
      "text/plain": [
       "overall       0\n",
       "reviewText    3\n",
       "dtype: int64"
      ]
     },
     "execution_count": 14,
     "metadata": {},
     "output_type": "execute_result"
    }
   ],
   "source": [
    "# Checking for nan values\n",
    "data.isnull().sum()"
   ]
  },
  {
   "cell_type": "code",
   "execution_count": 8,
   "id": "893ec4b3",
   "metadata": {},
   "outputs": [],
   "source": [
    "# Since there are nan values in the reviewText, we will drop them\n",
    "data = data.dropna()"
   ]
  },
  {
   "cell_type": "code",
   "execution_count": 16,
   "id": "2debc0a7",
   "metadata": {},
   "outputs": [
    {
     "data": {
      "text/plain": [
       "overall       0\n",
       "reviewText    0\n",
       "dtype: int64"
      ]
     },
     "execution_count": 16,
     "metadata": {},
     "output_type": "execute_result"
    }
   ],
   "source": [
    "data.isnull().sum()"
   ]
  },
  {
   "cell_type": "code",
   "execution_count": 10,
   "id": "eba82fd5",
   "metadata": {},
   "outputs": [
    {
     "data": {
      "text/plain": [
       "2"
      ]
     },
     "execution_count": 10,
     "metadata": {},
     "output_type": "execute_result"
    }
   ],
   "source": [
    "# Checking for duplicates\n",
    "data.duplicated().sum()"
   ]
  },
  {
   "cell_type": "code",
   "execution_count": 9,
   "id": "36331602",
   "metadata": {},
   "outputs": [],
   "source": [
    "# Removing duplicates\n",
    "data = data.drop_duplicates()"
   ]
  },
  {
   "cell_type": "code",
   "execution_count": 19,
   "id": "eadb4672",
   "metadata": {},
   "outputs": [
    {
     "data": {
      "text/plain": [
       "0"
      ]
     },
     "execution_count": 19,
     "metadata": {},
     "output_type": "execute_result"
    }
   ],
   "source": [
    "data.duplicated().sum()"
   ]
  },
  {
   "cell_type": "code",
   "execution_count": 20,
   "id": "a83ef795",
   "metadata": {},
   "outputs": [
    {
     "data": {
      "text/plain": [
       "overall\n",
       "5    57740\n",
       "4    25224\n",
       "3     9562\n",
       "2     3421\n",
       "1     2310\n",
       "Name: count, dtype: int64"
      ]
     },
     "execution_count": 20,
     "metadata": {},
     "output_type": "execute_result"
    }
   ],
   "source": [
    "# Checking for class imbalances\n",
    "data['overall'].value_counts()"
   ]
  },
  {
   "cell_type": "code",
   "execution_count": 10,
   "id": "9fb79327",
   "metadata": {},
   "outputs": [],
   "source": [
    "# For review sentiment, 3 and greater is positive (1), 3 less is negative (0)\n",
    "\n",
    "data['overall'] = data['overall'].map(lambda x: 0 if x < 3 else 1)"
   ]
  },
  {
   "cell_type": "code",
   "execution_count": 22,
   "id": "3a374500",
   "metadata": {},
   "outputs": [
    {
     "data": {
      "text/plain": [
       "overall\n",
       "1    92526\n",
       "0     5731\n",
       "Name: count, dtype: int64"
      ]
     },
     "execution_count": 22,
     "metadata": {},
     "output_type": "execute_result"
    }
   ],
   "source": [
    "data['overall'].value_counts()\n",
    "\n",
    "# Class imbalance needs to be addressed later on"
   ]
  },
  {
   "cell_type": "code",
   "execution_count": 11,
   "id": "84df2afa",
   "metadata": {},
   "outputs": [],
   "source": [
    "# Removing all special characters and lowering the string\n",
    "\n",
    "data['reviewText'] = data['reviewText'].replace(regex = r\"[^a-zA-Z0-9\\s+]\", value = '').str.lower()"
   ]
  },
  {
   "cell_type": "code",
   "execution_count": 12,
   "id": "e1ca60b9",
   "metadata": {},
   "outputs": [],
   "source": [
    "#Using Spacy for speed\n",
    "\n",
    "nlp = spacy.load(\"en_core_web_sm\", disable=[\"ner\", \"parser\"])\n",
    "\n",
    "def lemmatize(sentence: str) -> str:\n",
    "    results = []\n",
    "    for doc in nlp.pipe(sentence, batch_size=1000, n_process=6):  # 6 cores\n",
    "        results.append(\" \".join([t.lemma_ for t in doc if not t.is_stop]))\n",
    "    return results"
   ]
  },
  {
   "cell_type": "code",
   "execution_count": 13,
   "id": "bdc830f4",
   "metadata": {},
   "outputs": [],
   "source": [
    "data['lemmatized_text'] = lemmatize(data['reviewText'])"
   ]
  },
  {
   "cell_type": "code",
   "execution_count": 14,
   "id": "6f33405f",
   "metadata": {},
   "outputs": [],
   "source": [
    "# Removing any urls or any html tags\n",
    "data['lemmatized_text'] = data['lemmatized_text'].apply(\n",
    "    lambda x: re.sub(r\"http\\S+|www\\S+|https\\S+\", \"\", x)\n",
    ")"
   ]
  },
  {
   "cell_type": "code",
   "execution_count": 15,
   "id": "5cfb4079",
   "metadata": {},
   "outputs": [],
   "source": [
    "# Removing any html tags\n",
    "data['lemmatized_text'] = data['lemmatized_text'].apply(\n",
    "    lambda x: re.sub(r\"<.*?>\", \"\", x)\n",
    ")"
   ]
  },
  {
   "cell_type": "code",
   "execution_count": 18,
   "id": "ceb2f68e",
   "metadata": {},
   "outputs": [
    {
     "data": {
      "text/html": [
       "<div>\n",
       "<style scoped>\n",
       "    .dataframe tbody tr th:only-of-type {\n",
       "        vertical-align: middle;\n",
       "    }\n",
       "\n",
       "    .dataframe tbody tr th {\n",
       "        vertical-align: top;\n",
       "    }\n",
       "\n",
       "    .dataframe thead th {\n",
       "        text-align: right;\n",
       "    }\n",
       "</style>\n",
       "<table border=\"1\" class=\"dataframe\">\n",
       "  <thead>\n",
       "    <tr style=\"text-align: right;\">\n",
       "      <th></th>\n",
       "      <th>overall</th>\n",
       "      <th>reviewText</th>\n",
       "      <th>lemmatized_text</th>\n",
       "    </tr>\n",
       "  </thead>\n",
       "  <tbody>\n",
       "    <tr>\n",
       "      <th>869697</th>\n",
       "      <td>1</td>\n",
       "      <td>arc provided by author in exchange for an hone...</td>\n",
       "      <td>arc provide author exchange honest reviewthis ...</td>\n",
       "    </tr>\n",
       "    <tr>\n",
       "      <th>760913</th>\n",
       "      <td>1</td>\n",
       "      <td>wild ride by nancy warrenchanging gears series...</td>\n",
       "      <td>wild ride nancy warrenchange gear seriesduncan...</td>\n",
       "    </tr>\n",
       "    <tr>\n",
       "      <th>159841</th>\n",
       "      <td>1</td>\n",
       "      <td>well thought out story with many things going ...</td>\n",
       "      <td>think story thing go time alien race jump eart...</td>\n",
       "    </tr>\n",
       "    <tr>\n",
       "      <th>868915</th>\n",
       "      <td>1</td>\n",
       "      <td>this is book four of a five part serial  by no...</td>\n",
       "      <td>book serial   suspense high     m like jess bo...</td>\n",
       "    </tr>\n",
       "    <tr>\n",
       "      <th>980703</th>\n",
       "      <td>1</td>\n",
       "      <td>i really enjoyed this book it kept me interest...</td>\n",
       "      <td>enjoy book keep interested page way end author...</td>\n",
       "    </tr>\n",
       "    <tr>\n",
       "      <th>...</th>\n",
       "      <td>...</td>\n",
       "      <td>...</td>\n",
       "      <td>...</td>\n",
       "    </tr>\n",
       "    <tr>\n",
       "      <th>767506</th>\n",
       "      <td>1</td>\n",
       "      <td>the second book in the series is very good so ...</td>\n",
       "      <td>second book series good good purchase read   b...</td>\n",
       "    </tr>\n",
       "    <tr>\n",
       "      <th>385121</th>\n",
       "      <td>1</td>\n",
       "      <td>i love all of the sam moon books this was a su...</td>\n",
       "      <td>love sam moon book surprise medillion save son...</td>\n",
       "    </tr>\n",
       "    <tr>\n",
       "      <th>205925</th>\n",
       "      <td>1</td>\n",
       "      <td>not only was she kidnapped but she became a wi...</td>\n",
       "      <td>kidnap willing vessel want bad way revenge tur...</td>\n",
       "    </tr>\n",
       "    <tr>\n",
       "      <th>518557</th>\n",
       "      <td>1</td>\n",
       "      <td>if you have a gifted child you know first hand...</td>\n",
       "      <td>gifted child know hand exhausting lee binz exp...</td>\n",
       "    </tr>\n",
       "    <tr>\n",
       "      <th>404420</th>\n",
       "      <td>0</td>\n",
       "      <td>im a big susan mallory fan  i expected more st...</td>\n",
       "      <td>m big susan mallory fan   expect story sex rom...</td>\n",
       "    </tr>\n",
       "  </tbody>\n",
       "</table>\n",
       "<p>98257 rows × 3 columns</p>\n",
       "</div>"
      ],
      "text/plain": [
       "        overall                                         reviewText  \\\n",
       "869697        1  arc provided by author in exchange for an hone...   \n",
       "760913        1  wild ride by nancy warrenchanging gears series...   \n",
       "159841        1  well thought out story with many things going ...   \n",
       "868915        1  this is book four of a five part serial  by no...   \n",
       "980703        1  i really enjoyed this book it kept me interest...   \n",
       "...         ...                                                ...   \n",
       "767506        1  the second book in the series is very good so ...   \n",
       "385121        1  i love all of the sam moon books this was a su...   \n",
       "205925        1  not only was she kidnapped but she became a wi...   \n",
       "518557        1  if you have a gifted child you know first hand...   \n",
       "404420        0  im a big susan mallory fan  i expected more st...   \n",
       "\n",
       "                                          lemmatized_text  \n",
       "869697  arc provide author exchange honest reviewthis ...  \n",
       "760913  wild ride nancy warrenchange gear seriesduncan...  \n",
       "159841  think story thing go time alien race jump eart...  \n",
       "868915  book serial   suspense high     m like jess bo...  \n",
       "980703  enjoy book keep interested page way end author...  \n",
       "...                                                   ...  \n",
       "767506  second book series good good purchase read   b...  \n",
       "385121  love sam moon book surprise medillion save son...  \n",
       "205925  kidnap willing vessel want bad way revenge tur...  \n",
       "518557  gifted child know hand exhausting lee binz exp...  \n",
       "404420  m big susan mallory fan   expect story sex rom...  \n",
       "\n",
       "[98257 rows x 3 columns]"
      ]
     },
     "execution_count": 18,
     "metadata": {},
     "output_type": "execute_result"
    }
   ],
   "source": [
    "data"
   ]
  },
  {
   "cell_type": "code",
   "execution_count": 21,
   "id": "1c819ead",
   "metadata": {},
   "outputs": [],
   "source": [
    "# Saving cleaned data to CSV\n",
    "data.to_csv(\"../artifacts/cleaned_data.csv\")"
   ]
  },
  {
   "cell_type": "code",
   "execution_count": 16,
   "id": "f760d671",
   "metadata": {},
   "outputs": [],
   "source": [
    "corpus = data['lemmatized_text'].to_list()"
   ]
  },
  {
   "cell_type": "code",
   "execution_count": 17,
   "id": "d216be2c",
   "metadata": {},
   "outputs": [],
   "source": [
    "# Convert into corpus\n",
    "\n",
    "words = []\n",
    "\n",
    "for sentence in corpus:\n",
    "    words.append(word_tokenize(sentence))"
   ]
  },
  {
   "cell_type": "markdown",
   "id": "c3115c62",
   "metadata": {},
   "source": [
    "### Train Test Split"
   ]
  },
  {
   "cell_type": "code",
   "execution_count": 32,
   "id": "04c937ed",
   "metadata": {},
   "outputs": [],
   "source": [
    "X_train, X_test, y_train, y_test = train_test_split(words, data['overall'], test_size = 0.2, random_state = 42)"
   ]
  },
  {
   "cell_type": "markdown",
   "id": "c8f7c664",
   "metadata": {},
   "source": [
    "### Word2Vec"
   ]
  },
  {
   "cell_type": "code",
   "execution_count": 34,
   "id": "004a4d4b",
   "metadata": {},
   "outputs": [],
   "source": [
    "w2v = Word2Vec(sentences = X_train)\n",
    "\n",
    "def avg_word2vec(sentence):\n",
    "    vector = [w2v.wv[word] for word in sentence if word in w2v.wv.index_to_key]\n",
    "\n",
    "    if vector:\n",
    "        return np.mean(np.vstack(vector), axis = 0)\n",
    "    \n",
    "    else:\n",
    "        return np.zeros(w2v.vector_size)"
   ]
  },
  {
   "cell_type": "code",
   "execution_count": 23,
   "id": "6a77a754",
   "metadata": {},
   "outputs": [],
   "source": [
    "# Transforming the words into vectors\n",
    "X_train_vec = np.array([avg_word2vec(token) for token in X_train])\n",
    "X_test_vec = np.array([avg_word2vec(token) for token in X_test])"
   ]
  },
  {
   "cell_type": "markdown",
   "id": "8f0b770b",
   "metadata": {},
   "source": [
    "### Model Training"
   ]
  },
  {
   "cell_type": "code",
   "execution_count": 30,
   "id": "67a729dd",
   "metadata": {},
   "outputs": [],
   "source": [
    "models = {\n",
    "    \"RandomForestClassifier\": RandomForestClassifier(),\n",
    "    \"LogisticRegression\": LogisticRegression(),\n",
    "    \"SVC\": SVC(),\n",
    "    \"KNeighborsClassifier\": KNeighborsClassifier()\n",
    "}\n",
    "\n",
    "train_metrics = {}\n",
    "\n",
    "test_metrics = {}"
   ]
  },
  {
   "cell_type": "code",
   "execution_count": 26,
   "id": "229bb218",
   "metadata": {},
   "outputs": [],
   "source": [
    "def get_metrics(y_train, y_pred):\n",
    "    acc = accuracy_score(y_train, y_pred)\n",
    "    f1 = f1_score(y_train, y_pred)\n",
    "    recall = recall_score(y_train, y_pred)\n",
    "\n",
    "    return acc, f1, recall"
   ]
  },
  {
   "cell_type": "code",
   "execution_count": 35,
   "id": "ba7b447f",
   "metadata": {},
   "outputs": [
    {
     "name": "stdout",
     "output_type": "stream",
     "text": [
      "Training model: RandomForestClassifier\n",
      "Training model: LogisticRegression\n",
      "Training model: SVC\n",
      "Training model: KNeighborsClassifier\n"
     ]
    }
   ],
   "source": [
    "for name, model in models.items():\n",
    "    print(f\"Training model: {name}\")\n",
    "    \n",
    "    model.fit(X_train_vec, y_train)\n",
    "\n",
    "    #Testing for Train data\n",
    "    y_pred_train = model.predict(X_train_vec)\n",
    "    acc, f1, recall = get_metrics(y_train, y_pred_train)\n",
    "\n",
    "    train_metrics[name] = [acc, f1, recall]\n",
    "\n",
    "    #Testing for Test data\n",
    "    y_pred_test = model.predict(X_test_vec)\n",
    "    acc, f1, recall = get_metrics(y_test, y_pred_test)\n",
    "\n",
    "    test_metrics[name] = [acc, f1, recall]"
   ]
  },
  {
   "cell_type": "code",
   "execution_count": null,
   "id": "e757530c",
   "metadata": {},
   "outputs": [
    {
     "data": {
      "text/plain": [
       "('SVC', [0.9466212090372481, 0.9724230395120798, 0.9982189119170984])"
      ]
     },
     "execution_count": 39,
     "metadata": {},
     "output_type": "execute_result"
    }
   ],
   "source": [
    "#Best model and results\n",
    "max(list(test_metrics.items()), key = lambda x: x[1][0])"
   ]
  },
  {
   "cell_type": "code",
   "execution_count": 40,
   "id": "f491e9b6",
   "metadata": {},
   "outputs": [],
   "source": [
    "test_acc_scores = []\n",
    "\n",
    "for i in test_metrics.values():\n",
    "    test_acc_scores.append(i[0])"
   ]
  },
  {
   "cell_type": "code",
   "execution_count": 44,
   "id": "24eaf09b",
   "metadata": {},
   "outputs": [
    {
     "data": {
      "image/png": "[encoded data removed]",
      "text/plain": [
       "<Figure size 640x480 with 1 Axes>"
      ]
     },
     "metadata": {},
     "output_type": "display_data"
    }
   ],
   "source": [
    "plt.bar(models.keys(), test_acc_scores)\n",
    "for i, v in enumerate(test_acc_scores):\n",
    "    plt.text(i, v, str(round(v, 3)), ha = 'center', va = 'bottom')\n",
    "plt.xticks(rotation = 45)\n",
    "plt.show()"
   ]
  }
 ],
 "metadata": {
  "kernelspec": {
   "display_name": "Python 3",
   "language": "python",
   "name": "python3"
  },
  "language_info": {
   "codemirror_mode": {
    "name": "ipython",
    "version": 3
   },
   "file_extension": ".py",
   "mimetype": "text/x-python",
   "name": "python",
   "nbconvert_exporter": "python",
   "pygments_lexer": "ipython3",
   "version": "3.12.5"
  }
 },
 "nbformat": 4,
 "nbformat_minor": 5
}
